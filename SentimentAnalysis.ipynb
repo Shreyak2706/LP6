{
 "cells": [
  {
   "cell_type": "code",
   "execution_count": 2,
   "id": "24c9b6d1-6f6b-4bf8-9392-43206f7f2271",
   "metadata": {},
   "outputs": [],
   "source": [
    "# Import libraries: pandas, numpy, matplotlib, seaborn\n",
    "import pandas as pd\n",
    "import numpy as np\n",
    "import seaborn as sns\n",
    "import matplotlib.pyplot as plt\n",
    "%matplotlib inline\n",
    "import re\n",
    "\n",
    "import warnings\n",
    "warnings.filterwarnings('ignore')"
   ]
  },
  {
   "cell_type": "code",
   "execution_count": 14,
   "id": "9af0471f-527f-4e46-87d7-60fa2f9e36cf",
   "metadata": {},
   "outputs": [],
   "source": [
    "data = pd.read_csv('./movie_review.csv',sep='\\t',encoding='latin-1')"
   ]
  },
  {
   "cell_type": "code",
   "execution_count": 16,
   "id": "bb67808b-0fef-46c6-bb8f-d926ba4beec4",
   "metadata": {},
   "outputs": [
    {
     "data": {
      "text/html": [
       "<div>\n",
       "<style scoped>\n",
       "    .dataframe tbody tr th:only-of-type {\n",
       "        vertical-align: middle;\n",
       "    }\n",
       "\n",
       "    .dataframe tbody tr th {\n",
       "        vertical-align: top;\n",
       "    }\n",
       "\n",
       "    .dataframe thead th {\n",
       "        text-align: right;\n",
       "    }\n",
       "</style>\n",
       "<table border=\"1\" class=\"dataframe\">\n",
       "  <thead>\n",
       "    <tr style=\"text-align: right;\">\n",
       "      <th></th>\n",
       "      <th>id</th>\n",
       "      <th>review</th>\n",
       "      <th>sentiment</th>\n",
       "    </tr>\n",
       "  </thead>\n",
       "  <tbody>\n",
       "    <tr>\n",
       "      <th>13833</th>\n",
       "      <td>4113_7</td>\n",
       "      <td>The title is the sound that one of the charact...</td>\n",
       "      <td>1</td>\n",
       "    </tr>\n",
       "    <tr>\n",
       "      <th>12164</th>\n",
       "      <td>9448_7</td>\n",
       "      <td>This was, undoubtedly, the most disturbing mov...</td>\n",
       "      <td>1</td>\n",
       "    </tr>\n",
       "    <tr>\n",
       "      <th>1426</th>\n",
       "      <td>4019_7</td>\n",
       "      <td>Being that I am not a fan of Snoop Dogg, as an...</td>\n",
       "      <td>1</td>\n",
       "    </tr>\n",
       "    <tr>\n",
       "      <th>896</th>\n",
       "      <td>472_1</td>\n",
       "      <td>The only thing I remember about this movie are...</td>\n",
       "      <td>0</td>\n",
       "    </tr>\n",
       "    <tr>\n",
       "      <th>1560</th>\n",
       "      <td>1541_8</td>\n",
       "      <td>Just saw this movie today at the Seattle Inter...</td>\n",
       "      <td>1</td>\n",
       "    </tr>\n",
       "    <tr>\n",
       "      <th>16129</th>\n",
       "      <td>5086_4</td>\n",
       "      <td>Terminus Paradis was exceptional, but \\Niki ar...</td>\n",
       "      <td>0</td>\n",
       "    </tr>\n",
       "    <tr>\n",
       "      <th>6608</th>\n",
       "      <td>7758_7</td>\n",
       "      <td>An overblown melodrama typical of its period (...</td>\n",
       "      <td>1</td>\n",
       "    </tr>\n",
       "    <tr>\n",
       "      <th>11373</th>\n",
       "      <td>1826_10</td>\n",
       "      <td>I loved this film when I was little. Today at ...</td>\n",
       "      <td>1</td>\n",
       "    </tr>\n",
       "    <tr>\n",
       "      <th>22061</th>\n",
       "      <td>8490_7</td>\n",
       "      <td>I recently saw this movie in my International ...</td>\n",
       "      <td>1</td>\n",
       "    </tr>\n",
       "    <tr>\n",
       "      <th>12490</th>\n",
       "      <td>7257_1</td>\n",
       "      <td>I was expecting a B-Movie French musical. Afte...</td>\n",
       "      <td>0</td>\n",
       "    </tr>\n",
       "  </tbody>\n",
       "</table>\n",
       "</div>"
      ],
      "text/plain": [
       "            id                                             review  sentiment\n",
       "13833   4113_7  The title is the sound that one of the charact...          1\n",
       "12164   9448_7  This was, undoubtedly, the most disturbing mov...          1\n",
       "1426    4019_7  Being that I am not a fan of Snoop Dogg, as an...          1\n",
       "896      472_1  The only thing I remember about this movie are...          0\n",
       "1560    1541_8  Just saw this movie today at the Seattle Inter...          1\n",
       "16129   5086_4  Terminus Paradis was exceptional, but \\Niki ar...          0\n",
       "6608    7758_7  An overblown melodrama typical of its period (...          1\n",
       "11373  1826_10  I loved this film when I was little. Today at ...          1\n",
       "22061   8490_7  I recently saw this movie in my International ...          1\n",
       "12490   7257_1  I was expecting a B-Movie French musical. Afte...          0"
      ]
     },
     "execution_count": 16,
     "metadata": {},
     "output_type": "execute_result"
    }
   ],
   "source": [
    "data.sample(10)"
   ]
  },
  {
   "cell_type": "code",
   "execution_count": 22,
   "id": "8283ded4-d6d9-46a2-9e00-95e5d7924225",
   "metadata": {},
   "outputs": [
    {
     "name": "stdout",
     "output_type": "stream",
     "text": [
      "<class 'pandas.core.frame.DataFrame'>\n",
      "RangeIndex: 22500 entries, 0 to 22499\n",
      "Data columns (total 3 columns):\n",
      " #   Column     Non-Null Count  Dtype \n",
      "---  ------     --------------  ----- \n",
      " 0   id         22500 non-null  object\n",
      " 1   review     22500 non-null  object\n",
      " 2   sentiment  22500 non-null  int64 \n",
      "dtypes: int64(1), object(2)\n",
      "memory usage: 527.5+ KB\n"
     ]
    }
   ],
   "source": [
    "data.info()"
   ]
  },
  {
   "cell_type": "code",
   "execution_count": 18,
   "id": "b80b158c-7251-460b-9c0a-9f110eb0ec02",
   "metadata": {},
   "outputs": [
    {
     "data": {
      "text/plain": [
       "sentiment\n",
       "1    11278\n",
       "0    11222\n",
       "Name: count, dtype: int64"
      ]
     },
     "execution_count": 18,
     "metadata": {},
     "output_type": "execute_result"
    }
   ],
   "source": [
    "data['sentiment'].value_counts()"
   ]
  },
  {
   "cell_type": "code",
   "execution_count": 32,
   "id": "28027934-d614-4b4b-b4ad-96baa9955fd5",
   "metadata": {},
   "outputs": [],
   "source": [
    "colors = ['green', 'red']"
   ]
  },
  {
   "cell_type": "code",
   "execution_count": 33,
   "id": "036c0e83-1ace-45aa-a3d4-6ea17285f65c",
   "metadata": {},
   "outputs": [
    {
     "data": {
      "image/png": "[encoded data removed]",
      "text/plain": [
       "<Figure size 640x480 with 1 Axes>"
      ]
     },
     "metadata": {},
     "output_type": "display_data"
    }
   ],
   "source": [
    "sns.countplot(x='sentiment',data = data, palette=colors)\n",
    "plt.show()"
   ]
  },
  {
   "cell_type": "code",
   "execution_count": 34,
   "id": "8c500b8a-4941-433b-b039-37858e8fb44e",
   "metadata": {},
   "outputs": [
    {
     "data": {
      "text/plain": [
       "<Axes: xlabel='sentiment', ylabel='Count'>"
      ]
     },
     "execution_count": 34,
     "metadata": {},
     "output_type": "execute_result"
    },
    {
     "data": {
      "image/png": "[encoded data removed]",
      "text/plain": [
       "<Figure size 640x480 with 1 Axes>"
      ]
     },
     "metadata": {},
     "output_type": "display_data"
    }
   ],
   "source": [
    "sns.histplot(x='sentiment',data = data, palette=colors)"
   ]
  },
  {
   "cell_type": "code",
   "execution_count": 35,
   "id": "0bcb1d0c-071a-44a0-b059-dd3dbdeaf08f",
   "metadata": {},
   "outputs": [
    {
     "data": {
      "text/plain": [
       "<function matplotlib.pyplot.show(close=None, block=None)>"
      ]
     },
     "execution_count": 35,
     "metadata": {},
     "output_type": "execute_result"
    },
    {
     "data": {
      "image/png": "[encoded data removed]",
      "text/plain": [
       "<Figure size 640x480 with 1 Axes>"
      ]
     },
     "metadata": {},
     "output_type": "display_data"
    }
   ],
   "source": [
    "sentiment_counts = data['sentiment'].value_counts()\n",
    "sentiments = sentiment_counts.index\n",
    "plt.pie(sentiment_counts, labels=sentiments, colors=colors, autopct='%1.1f%%')\n",
    "plt.show"
   ]
  },
  {
   "cell_type": "code",
   "execution_count": 37,
   "id": "a2384477-b8a2-4d70-83af-3490e3f14db1",
   "metadata": {},
   "outputs": [
    {
     "data": {
      "text/html": [
       "<div>\n",
       "<style scoped>\n",
       "    .dataframe tbody tr th:only-of-type {\n",
       "        vertical-align: middle;\n",
       "    }\n",
       "\n",
       "    .dataframe tbody tr th {\n",
       "        vertical-align: top;\n",
       "    }\n",
       "\n",
       "    .dataframe thead th {\n",
       "        text-align: right;\n",
       "    }\n",
       "</style>\n",
       "<table border=\"1\" class=\"dataframe\">\n",
       "  <thead>\n",
       "    <tr style=\"text-align: right;\">\n",
       "      <th></th>\n",
       "      <th>id</th>\n",
       "      <th>review</th>\n",
       "      <th>sentiment</th>\n",
       "    </tr>\n",
       "  </thead>\n",
       "  <tbody>\n",
       "    <tr>\n",
       "      <th>0</th>\n",
       "      <td>5814_8</td>\n",
       "      <td>With all this stuff going down at the moment w...</td>\n",
       "      <td>1</td>\n",
       "    </tr>\n",
       "    <tr>\n",
       "      <th>1</th>\n",
       "      <td>2381_9</td>\n",
       "      <td>\\The Classic War of the Worlds\\\" by Timothy Hi...</td>\n",
       "      <td>1</td>\n",
       "    </tr>\n",
       "    <tr>\n",
       "      <th>2</th>\n",
       "      <td>7759_3</td>\n",
       "      <td>The film starts with a manager (Nicholas Bell)...</td>\n",
       "      <td>0</td>\n",
       "    </tr>\n",
       "    <tr>\n",
       "      <th>3</th>\n",
       "      <td>3630_4</td>\n",
       "      <td>It must be assumed that those who praised this...</td>\n",
       "      <td>0</td>\n",
       "    </tr>\n",
       "    <tr>\n",
       "      <th>4</th>\n",
       "      <td>9495_8</td>\n",
       "      <td>Superbly trashy and wondrously unpretentious 8...</td>\n",
       "      <td>1</td>\n",
       "    </tr>\n",
       "    <tr>\n",
       "      <th>...</th>\n",
       "      <td>...</td>\n",
       "      <td>...</td>\n",
       "      <td>...</td>\n",
       "    </tr>\n",
       "    <tr>\n",
       "      <th>22495</th>\n",
       "      <td>3453_3</td>\n",
       "      <td>It seems like more consideration has gone into...</td>\n",
       "      <td>0</td>\n",
       "    </tr>\n",
       "    <tr>\n",
       "      <th>22496</th>\n",
       "      <td>5064_1</td>\n",
       "      <td>I don't believe they made this film. Completel...</td>\n",
       "      <td>0</td>\n",
       "    </tr>\n",
       "    <tr>\n",
       "      <th>22497</th>\n",
       "      <td>10905_3</td>\n",
       "      <td>Guy is a loser. Can't get girls, needs to buil...</td>\n",
       "      <td>0</td>\n",
       "    </tr>\n",
       "    <tr>\n",
       "      <th>22498</th>\n",
       "      <td>10194_3</td>\n",
       "      <td>This 30 minute documentary BuÃÂ±uel made in t...</td>\n",
       "      <td>0</td>\n",
       "    </tr>\n",
       "    <tr>\n",
       "      <th>22499</th>\n",
       "      <td>8478_8</td>\n",
       "      <td>I saw this movie as a child and it broke my he...</td>\n",
       "      <td>1</td>\n",
       "    </tr>\n",
       "  </tbody>\n",
       "</table>\n",
       "<p>22500 rows × 3 columns</p>\n",
       "</div>"
      ],
      "text/plain": [
       "            id                                             review  sentiment\n",
       "0       5814_8  With all this stuff going down at the moment w...          1\n",
       "1       2381_9  \\The Classic War of the Worlds\\\" by Timothy Hi...          1\n",
       "2       7759_3  The film starts with a manager (Nicholas Bell)...          0\n",
       "3       3630_4  It must be assumed that those who praised this...          0\n",
       "4       9495_8  Superbly trashy and wondrously unpretentious 8...          1\n",
       "...        ...                                                ...        ...\n",
       "22495   3453_3  It seems like more consideration has gone into...          0\n",
       "22496   5064_1  I don't believe they made this film. Completel...          0\n",
       "22497  10905_3  Guy is a loser. Can't get girls, needs to buil...          0\n",
       "22498  10194_3  This 30 minute documentary BuÃÂ±uel made in t...          0\n",
       "22499   8478_8  I saw this movie as a child and it broke my he...          1\n",
       "\n",
       "[22500 rows x 3 columns]"
      ]
     },
     "execution_count": 37,
     "metadata": {},
     "output_type": "execute_result"
    }
   ],
   "source": [
    "data.dropna()"
   ]
  },
  {
   "cell_type": "code",
   "execution_count": 38,
   "id": "4d47667d-5f7c-4599-a0c7-f2c3016e7972",
   "metadata": {},
   "outputs": [
    {
     "data": {
      "text/plain": [
       "sentiment\n",
       "1    11278\n",
       "0    11222\n",
       "Name: count, dtype: int64"
      ]
     },
     "execution_count": 38,
     "metadata": {},
     "output_type": "execute_result"
    }
   ],
   "source": [
    "data['sentiment'].value_counts()"
   ]
  },
  {
   "cell_type": "code",
   "execution_count": 44,
   "id": "c8209590-0ddb-461f-b61d-81e0b2d2cdb2",
   "metadata": {},
   "outputs": [
    {
     "data": {
      "text/plain": [
       "<Axes: xlabel='sentiment', ylabel='sentiment'>"
      ]
     },
     "execution_count": 44,
     "metadata": {},
     "output_type": "execute_result"
    },
    {
     "data": {
      "image/png": "[encoded data removed]",
      "text/plain": [
       "<Figure size 640x480 with 1 Axes>"
      ]
     },
     "metadata": {},
     "output_type": "display_data"
    }
   ],
   "source": [
    "sns.lineplot(x='sentiment',y='sentiment',data = data, palette=colors)"
   ]
  },
  {
   "cell_type": "code",
   "execution_count": null,
   "id": "b58d7e1a-9d5f-4d6f-80fa-673a14d70f71",
   "metadata": {},
   "outputs": [],
   "source": []
  }
 ],
 "metadata": {
  "kernelspec": {
   "display_name": "Python 3 (ipykernel)",
   "language": "python",
   "name": "python3"
  },
  "language_info": {
   "codemirror_mode": {
    "name": "ipython",
    "version": 3
   },
   "file_extension": ".py",
   "mimetype": "text/x-python",
   "name": "python",
   "nbconvert_exporter": "python",
   "pygments_lexer": "ipython3",
   "version": "3.8.10"
  }
 },
 "nbformat": 4,
 "nbformat_minor": 5
}
